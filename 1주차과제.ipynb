{
  "nbformat": 4,
  "nbformat_minor": 0,
  "metadata": {
    "colab": {
      "name": "Untitled0.ipynb",
      "provenance": [],
      "collapsed_sections": [],
      "authorship_tag": "ABX9TyOfQw71Qykij53hidaUDYY7",
      "include_colab_link": true
    },
    "kernelspec": {
      "name": "python3",
      "display_name": "Python 3"
    }
  },
  "cells": [
    {
      "cell_type": "markdown",
      "metadata": {
        "id": "view-in-github",
        "colab_type": "text"
      },
      "source": [
        "<a href=\"https://colab.research.google.com/github/leeisack/Ai_story/blob/master/1%EC%A3%BC%EC%B0%A8%EA%B3%BC%EC%A0%9C.ipynb\" target=\"_parent\"><img src=\"https://colab.research.google.com/assets/colab-badge.svg\" alt=\"Open In Colab\"/></a>"
      ]
    },
    {
      "cell_type": "markdown",
      "metadata": {
        "id": "Yz6suD6xfBMO",
        "colab_type": "text"
      },
      "source": [
        "#1주차 과제\n",
        "##인공지능 4가지 분야소개"
      ]
    },
    {
      "cell_type": "markdown",
      "metadata": {
        "id": "y21D2wsnf3Me",
        "colab_type": "text"
      },
      "source": [
        "###1.자율주행\n",
        "#### 자율주행이란 :무생물인 교통수단이 사람없이 스스로 판단하고 운행하는 것을 뜻한다.\n",
        "\n",
        "##### 예시\n",
        "####테슬라 오토파일럿 기능 \n",
        "![테슬라](https://drive.google.com/file/d/1xRSe7H_NK1j1Q9TZua3iDD53sD-p38nc/view?usp=sharing)"
      ]
    },
    {
      "cell_type": "markdown",
      "metadata": {
        "id": "sTFDWdzigbdN",
        "colab_type": "text"
      },
      "source": [
        "###2.음성\n",
        "#### 음성인식이란 :컴퓨터가 마이크와 같은 소리 센서를 통해 얻은 음향학적 신호(acoustic speech signal)를 단어나 문장으로 변환시키는 기술을 말한다.\n",
        "\n",
        "![증가하는 ai스피커시장](https://drive.google.com/file/d/1rrThseOQKkon2pCHG5YEQijJeXRkktVz/view?usp=sharing)"
      ]
    },
    {
      "cell_type": "markdown",
      "metadata": {
        "id": "tBSTYFAGgbgV",
        "colab_type": "text"
      },
      "source": [
        "###3.이미지\n",
        "#### 영상인식이란 :그림으로 된 정보를 컴퓨터를 이용하여 처리하는 일로 그 정확도나 속도가 딥러닝 도입이후 비약적으로 향상되고있다.\n",
        "######[네이버 지식백과] 영상 인식 [vision recognition] (컴퓨터인터넷IT용어대사전, 2011. 1. 20., 전산용어사전편찬위원회)\n",
        "\n",
        "![정확도](https://https://drive.google.com/file/d/1MosynoNPs0ccJKrk-9H4ROO9igMG3D7r/view?usp=sharing)\n",
        "\n",
        "![x레이진단](https://https://drive.google.com/file/d/1XyRkYCR9KHr3NV8fLwljNqfEgVAYnPaA/view?usp=sharing)\n",
        "#### x레이로 병명을 진단해 내는 정확도가 매우 향상되었고 한국의 경우 길 병원에서 최초로 ai의사 왓슨을 도입해서 진단하고있다.\n",
        "\n",
        "![초당 500장](https://https://drive.google.com/file/d/1SBWX1s9wANH9QrYBOcVVGnIPIEWH0Mm3/view?usp=sharing)\n",
        "#### 위와같이 실시간으로 이미지를 분석해낸다"
      ]
    },
    {
      "cell_type": "markdown",
      "metadata": {
        "id": "_PCF15Negbjc",
        "colab_type": "text"
      },
      "source": [
        "###4.언어\n",
        "#### 보다 전문적인 용어로는 자연어 처리라하고 자연어 처리란 컴퓨터를 이용해 사람의 자연어를 분석하고 처리하는 기술을 의미한다.\n",
        "![사진자체 번역](https://https://drive.google.com/file/d/1fYjjT84SNVtbzTXkvRlCNqTEwmNIGCnp/view?usp=sharing)\n",
        "\n",
        "![크롬](https://https://drive.google.com/file/d/1dS6nPMe8ok7sbPE76Mxs7MaeFWJTAIl_/view?usp=sharing)\n",
        "#### 위와같은 기능을 많이 접해본 경험이 있을것인데 이를 통하여 해외의 사이트에서도 원하는 정보를 찾기 수월해졌다.\n",
        "\n",
        "![파파고](https://https://drive.google.com/file/d/1hAzeqNpoqlsTbnoq2su2Z1MK7QTCLGKQ/view?usp=sharing)\n",
        "#### 파파고, 구글번역 등등 많은 회사에서 서비스를 제공하고있다.\n"
      ]
    },
    {
      "cell_type": "markdown",
      "metadata": {
        "id": "rBlbcldogbw5",
        "colab_type": "text"
      },
      "source": [
        ""
      ]
    }
  ]
}